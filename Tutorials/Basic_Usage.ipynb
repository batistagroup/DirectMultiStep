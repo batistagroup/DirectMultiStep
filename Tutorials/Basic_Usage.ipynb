{
 "cells": [
  {
   "cell_type": "code",
   "execution_count": 1,
   "id": "de8543df-0924-45ef-b4df-eb514d0aa31f",
   "metadata": {
    "tags": []
   },
   "outputs": [],
   "source": [
    "from Models.TensorGen import BeamSearchOptimized as BeamSearch\n",
    "from Models.Configure import VanillaTransformerConfig, prepare_model\n",
    "from Data.Dataset import RoutesDataset\n",
    "from Utils.PostProcess import BeamResultType, find_valid_paths, process_paths\n",
    "\n",
    "import torch\n",
    "import yaml\n",
    "from pathlib import Path\n",
    "from rdkit import RDLogger, Chem\n",
    "from tqdm import tqdm\n",
    "\n",
    "RDLogger.DisableLog(\"rdApp.*\")\n",
    "\n",
    "data_path = Path.cwd() / \"Data\"\n",
    "processed_path = data_path / \"Processed\"\n",
    "ckpt_path = data_path / \"Checkpoints\"\n",
    "fig_path = data_path / \"Figures\""
   ]
  },
  {
   "cell_type": "markdown",
   "id": "0d66a95e-5f29-489c-9297-7595f6eb1bb9",
   "metadata": {},
   "source": [
    "# Load Model and Dataset Class"
   ]
  },
  {
   "cell_type": "code",
   "execution_count": 2,
   "id": "f39d3f5e-d41b-4bf5-a908-7a64df4ec497",
   "metadata": {
    "tags": []
   },
   "outputs": [],
   "source": [
    "with open(processed_path / \"character_dictionary.yaml\", \"rb\") as file:\n",
    "    data = yaml.safe_load(file)\n",
    "    idx_to_token = data[\"invdict\"]\n",
    "    token_to_idx = data[\"smiledict\"]\n",
    "    product_max_length = data[\"product_max_length\"]\n",
    "    sm_max_length = data[\"sm_max_length\"]\n",
    "    \n",
    "rds = RoutesDataset()\n",
    "rds.token_to_idx = token_to_idx\n",
    "rds.seq_pad_index = 52"
   ]
  },
  {
   "cell_type": "code",
   "execution_count": 3,
   "id": "249bd768-ead8-4d0b-b1b9-e261f9187a4f",
   "metadata": {
    "tags": []
   },
   "outputs": [
    {
     "name": "stdout",
     "output_type": "stream",
     "text": [
      "The model has 9,857,333 trainable parameters\n"
     ]
    }
   ],
   "source": [
    "device = torch.device(\"cuda\" if torch.cuda.is_available() else \"cpu\")\n",
    "ckpt_name = \"van_6x3_6x3_final.ckpt\"\n",
    "\n",
    "van_enc_conf = VanillaTransformerConfig(\n",
    "    input_dim=53,\n",
    "    output_dim=53,\n",
    "    input_max_length=145 + 135,\n",
    "    output_max_length=1074 + 1,  # 1074 is max length\n",
    "    pad_index=52,\n",
    "    n_layers=6,\n",
    "    ff_mult=3,\n",
    "    attn_bias=False,\n",
    "    ff_activation=\"gelu\",\n",
    "    hid_dim=256,\n",
    ")\n",
    "van_dec_conf = VanillaTransformerConfig(\n",
    "    input_dim=53,\n",
    "    output_dim=53,\n",
    "    input_max_length=145 + 135,\n",
    "    output_max_length=1074 + 1,  # 1074 is max length\n",
    "    pad_index=52,\n",
    "    n_layers=6,\n",
    "    ff_mult=3,\n",
    "    attn_bias=False,\n",
    "    ff_activation=\"gelu\",\n",
    "    hid_dim=256,\n",
    ")\n",
    "model = prepare_model(enc_config=van_enc_conf, dec_config=van_dec_conf)\n",
    "\n",
    "ckpt_torch = torch.load(ckpt_path / ckpt_name, map_location=device)\n",
    "model.load_state_dict(ckpt_torch)\n",
    "model.to(device)\n",
    "model.eval();"
   ]
  },
  {
   "cell_type": "markdown",
   "id": "fa98b9cc-98b4-47ff-a5b5-c76d2a545768",
   "metadata": {},
   "source": [
    "# User's Choice of Target Compounds, Steps, SM, and Beam Size"
   ]
  },
  {
   "cell_type": "code",
   "execution_count": 4,
   "id": "e1461668-8834-4ca5-a01d-8d7f0d1ae093",
   "metadata": {
    "tags": []
   },
   "outputs": [
    {
     "name": "stdout",
     "output_type": "stream",
     "text": [
      "Your Canonical SMILES Target Compound: O=C(c1ccc(NS(=O)(=O)c2cccc3cccnc23)cc1)N1CCN(CC2CC2)CC1\n",
      "Your Canonical SMILES Starting Material: CCOC(=O)c1ccc(N)cc1\n"
     ]
    },
    {
     "data": {
      "image/png": "[encoded data removed]",
      "text/plain": [
       "<rdkit.Chem.rdchem.Mol at 0x7efc058c20a0>"
      ]
     },
     "execution_count": 4,
     "metadata": {},
     "output_type": "execute_result"
    }
   ],
   "source": [
    "################### Modify this part\n",
    "product_string = \"O=C(c1ccc(NS(=O)(=O)c2cccc3cccnc23)cc1)N1CCN(CC2CC2)CC1\"\n",
    "sm_string = \"CCOC(=O)c1ccc(N)cc1\"\n",
    "n_steps = 3\n",
    "beam_size = 50\n",
    "###################\n",
    "# Beam Search class\n",
    "BSObject = BeamSearch(\n",
    "    model=model,\n",
    "    beam_size=beam_size,\n",
    "    start_idx=0,\n",
    "    pad_idx=52,\n",
    "    end_idx=22,\n",
    "    max_length=1074,\n",
    "    idx_to_token=idx_to_token,\n",
    "    device=device,\n",
    ")\n",
    "# Canonicalization\n",
    "canonicalize = lambda smile: Chem.MolToSmiles(Chem.MolFromSmiles(smile), isomericSmiles=True)\n",
    "product = canonicalize(product_string)\n",
    "sm = canonicalize(sm_string)\n",
    "print('Your Canonical SMILES Target Compound:', product)\n",
    "print('Your Canonical SMILES Starting Material:', sm)\n",
    "# Prepare torch objects\n",
    "prod_tens = rds.smile_to_tokens(product, product_max_length)\n",
    "sm_tens = rds.smile_to_tokens(sm, sm_max_length)\n",
    "encoder_inp = torch.cat([prod_tens, sm_tens], dim=0).unsqueeze(0).to(device)\n",
    "steps_tens = torch.tensor([n_steps]).unsqueeze(0).to(device)\n",
    "path_start = \"{'smiles':'\" + product + \"','children':[{'smiles':'\"\n",
    "path_tens = rds.path_string_to_tokens(\n",
    "    path_start, max_length=None, add_eos=False\n",
    ").unsqueeze(0).to(device)\n",
    "# Visualize Compounds\n",
    "Chem.MolFromSmiles(product + \".\" + sm)"
   ]
  },
  {
   "cell_type": "markdown",
   "id": "8a67d3c4-e437-4010-9aef-e531b26975e7",
   "metadata": {},
   "source": [
    "# Generate Routes"
   ]
  },
  {
   "cell_type": "code",
   "execution_count": 5,
   "id": "b0961dd9-1c13-4c3a-bd83-8a54915a4979",
   "metadata": {
    "tags": []
   },
   "outputs": [
    {
     "name": "stderr",
     "output_type": "stream",
     "text": [
      " 26%|██▌       | 257/1007 [00:05<00:14, 51.30it/s]\n"
     ]
    },
    {
     "name": "stdout",
     "output_type": "stream",
     "text": [
      "Starting to find valid paths:\n"
     ]
    },
    {
     "name": "stderr",
     "output_type": "stream",
     "text": [
      "100%|██████████| 1/1 [00:00<00:00, 10.31it/s]\n"
     ]
    },
    {
     "name": "stdout",
     "output_type": "stream",
     "text": [
      "Starting to canonicalize paths:\n"
     ]
    },
    {
     "name": "stderr",
     "output_type": "stream",
     "text": [
      "100%|██████████| 1/1 [00:00<00:00, 12.67it/s]\n"
     ]
    },
    {
     "name": "stdout",
     "output_type": "stream",
     "text": [
      "Failed to canonicalize counter=0 path strings\n",
      "Starting to remove repetitions within beam results:\n"
     ]
    },
    {
     "name": "stderr",
     "output_type": "stream",
     "text": [
      "100%|██████████| 1/1 [00:00<00:00, 39.17it/s]\n"
     ]
    },
    {
     "name": "stdout",
     "output_type": "stream",
     "text": [
      "Starting to find paths with correct product and reactants:\n"
     ]
    },
    {
     "name": "stderr",
     "output_type": "stream",
     "text": [
      "1it [00:00, 33.85it/s]"
     ]
    },
    {
     "name": "stdout",
     "output_type": "stream",
     "text": [
      "Length of correct paths: 23\n"
     ]
    },
    {
     "name": "stderr",
     "output_type": "stream",
     "text": [
      "\n"
     ]
    }
   ],
   "source": [
    "all_beam_results_NS2: BeamResultType = []\n",
    "beam_result_BS2 = BSObject.decode(\n",
    "    src_BC=encoder_inp, steps_B1=steps_tens, path_start_BL=path_tens\n",
    ")\n",
    "for beam_result_S2 in beam_result_BS2:\n",
    "    all_beam_results_NS2.append(beam_result_S2)\n",
    "    \n",
    "valid_paths_NS2n = find_valid_paths(all_beam_results_NS2, verbose=True)\n",
    "correct_paths_NS2n = process_paths(\n",
    "            paths_NS2n=valid_paths_NS2n, true_products=[product], true_reacs=[sm], commercial_stock=None, verbose=True\n",
    "        )\n",
    "\n",
    "print(f\"Length of correct paths: {len(correct_paths_NS2n[0])}\")"
   ]
  },
  {
   "cell_type": "code",
   "execution_count": 6,
   "id": "743c38be-d7b9-4fe3-af80-26fc287749de",
   "metadata": {
    "tags": []
   },
   "outputs": [
    {
     "data": {
      "text/plain": [
       "{'smiles': 'O=C(c1ccc(NS(=O)(=O)c2cccc3cccnc23)cc1)N1CCN(CC2CC2)CC1',\n",
       " 'children': [{'smiles': 'O=CC1CC1'},\n",
       "  {'smiles': 'O=C(c1ccc(NS(=O)(=O)c2cccc3cccnc23)cc1)N1CCNCC1',\n",
       "   'children': [{'smiles': 'CCOC(=O)c1ccc(NS(=O)(=O)c2cccc3cccnc23)cc1',\n",
       "     'children': [{'smiles': 'CCOC(=O)c1ccc(N)cc1'},\n",
       "      {'smiles': 'O=S(=O)(Cl)c1cccc2cccnc12'}]},\n",
       "    {'smiles': 'C1CNCCN1'}]}]}"
      ]
     },
     "execution_count": 6,
     "metadata": {},
     "output_type": "execute_result"
    }
   ],
   "source": [
    "# display one route\n",
    "eval(correct_paths_NS2n[0][1][0])"
   ]
  },
  {
   "cell_type": "markdown",
   "id": "a3e54c6a-6a1a-4ba2-b340-23175d951083",
   "metadata": {},
   "source": [
    "# Visualization \n",
    "### (the plotting functions are not so optimal, but serves the purpose)"
   ]
  },
  {
   "cell_type": "code",
   "execution_count": 7,
   "id": "60d0ad8d-7e39-489d-a46d-77059d3056da",
   "metadata": {
    "tags": []
   },
   "outputs": [],
   "source": [
    "from Utils.Visualize import RetrosynthesisTree, store_in_node, draw_tree_from_path_string\n",
    "fig_path.mkdir(parents=True, exist_ok=True)"
   ]
  },
  {
   "cell_type": "code",
   "execution_count": 8,
   "id": "72f34345-be7c-47d4-8d50-a712019cd0b0",
   "metadata": {
    "tags": []
   },
   "outputs": [
    {
     "name": "stdout",
     "output_type": "stream",
     "text": [
      "O=C(c1ccc(NS(=O)(=O)c2cccc3cccnc23)cc1)N1CCN(CC2CC2)CC1 (Mol Identity: 0, Template Index: None)\n",
      "* (Temp Identity: 0)\n",
      "-O=CC1CC1 (Mol Identity: 1, Template Index: 0)\n",
      "-O=C(c1ccc(NS(=O)(=O)c2cccc3cccnc23)cc1)N1CCNCC1 (Mol Identity: 2, Template Index: 0)\n",
      "** (Temp Identity: 1)\n",
      "--CCOC(=O)c1ccc(NS(=O)(=O)c2cccc3cccnc23)cc1 (Mol Identity: 3, Template Index: 1)\n",
      "*** (Temp Identity: 2)\n",
      "---CCOC(=O)c1ccc(N)cc1 (Mol Identity: 4, Template Index: 2)\n",
      "---O=S(=O)(Cl)c1cccc2cccnc12 (Mol Identity: 5, Template Index: 2)\n",
      "--C1CNCCN1 (Mol Identity: 6, Template Index: 1)\n"
     ]
    }
   ],
   "source": [
    "path = correct_paths_NS2n[0][1][0]\n",
    "retro_tree = RetrosynthesisTree(root_smiles=eval(path)['smiles'])\n",
    "store_in_node(retro_tree, parent_identity=0, path_dict=eval(path))\n",
    "retro_tree.display()"
   ]
  },
  {
   "cell_type": "code",
   "execution_count": null,
   "id": "e25232ea-5e67-49e4-87db-32b2561dce6b",
   "metadata": {
    "tags": []
   },
   "outputs": [],
   "source": [
    "print(\"Saving all routes as PDF to\", fig_path)\n",
    "for i, beam_result in enumerate(correct_paths_NS2n[0]):\n",
    "    draw_tree_from_path_string(\n",
    "        path_string=beam_result[0],\n",
    "        save_path=fig_path / f\"making_mitapivat_nsteps={n_steps}_b{i + 1}\",\n",
    "    )"
   ]
  }
 ],
 "metadata": {
  "kernelspec": {
   "display_name": "antonEnv",
   "language": "python",
   "name": "env"
  },
  "language_info": {
   "codemirror_mode": {
    "name": "ipython",
    "version": 3
   },
   "file_extension": ".py",
   "mimetype": "text/x-python",
   "name": "python",
   "nbconvert_exporter": "python",
   "pygments_lexer": "ipython3",
   "version": "3.11.9"
  }
 },
 "nbformat": 4,
 "nbformat_minor": 5
}
